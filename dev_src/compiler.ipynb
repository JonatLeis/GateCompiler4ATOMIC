{
 "cells": [
  {
   "cell_type": "markdown",
   "metadata": {},
   "source": [
    "# Defining global variables"
   ]
  },
  {
   "cell_type": "code",
   "execution_count": 10,
   "metadata": {},
   "outputs": [
    {
     "name": "stdout",
     "output_type": "stream",
     "text": [
      "{'input_registers': ['IN_a0', 'IN_a1', 'IN_a2', 'IN_a3', 'IN_a4', 'IN_a5', 'IN_a6', 'IN_a7', 'IN_b0', 'IN_b1', 'IN_b2', 'IN_b3', 'IN_b4', 'IN_b5', 'IN_b6', 'IN_b7', 'IN0', 'IN1', 'IN2', 'IN3', 'IN4', 'IN5', 'IN6', 'IN7', 'IN8', 'IN9', 'IN10', 'IN11', 'IN12', 'IN13'], 'stages': [{'gates': [{'type': 'AND', 'name': 'AND0', 'inputs': ['IN_a7', 'IN_b7']}], 'free_registers_after_stage': []}, {'gates': [{'type': 'AND', 'name': 'AND1', 'inputs': ['IN_a7', 'IN_b6']}], 'free_registers_after_stage': []}, {'gates': [{'type': 'AND', 'name': 'AND2', 'inputs': ['IN_a6', 'IN_b7']}], 'free_registers_after_stage': []}, {'gates': [{'type': 'XOR', 'name': 'XOR0', 'inputs': ['AND1', 'AND2']}], 'free_registers_after_stage': []}, {'gates': [{'type': 'AND', 'name': 'AND3', 'inputs': ['AND1', 'AND2']}], 'free_registers_after_stage': ['AND1', 'AND2']}, {'gates': [{'type': 'AND', 'name': 'AND4', 'inputs': ['IN_a5', 'IN_b7']}], 'free_registers_after_stage': []}, {'gates': [{'type': 'AND', 'name': 'AND5', 'inputs': ['IN_a6', 'IN_b6']}], 'free_registers_after_stage': []}, {'gates': [{'type': 'AND', 'name': 'AND6', 'inputs': ['IN_a7', 'IN_b5']}], 'free_registers_after_stage': []}, {'gates': [{'type': 'XOR', 'name': 'XOR1', 'inputs': ['AND4', 'AND5']}], 'free_registers_after_stage': []}, {'gates': [{'type': 'AND', 'name': 'AND7', 'inputs': ['AND4', 'AND5']}], 'free_registers_after_stage': ['AND4', 'AND5']}, {'gates': [{'type': 'XOR', 'name': 'XOR2', 'inputs': ['XOR1', 'AND6']}], 'free_registers_after_stage': []}, {'gates': [{'type': 'AND', 'name': 'AND8', 'inputs': ['XOR1', 'AND6']}], 'free_registers_after_stage': ['XOR1', 'AND6']}, {'gates': [{'type': 'OR', 'name': 'OR0', 'inputs': ['AND7', 'AND8']}], 'free_registers_after_stage': ['AND7', 'AND8']}, {'gates': [{'type': 'XOR', 'name': 'XOR3', 'inputs': ['XOR2', 'IN0']}], 'free_registers_after_stage': []}, {'gates': [{'type': 'AND', 'name': 'AND9', 'inputs': ['XOR2', 'IN0']}], 'free_registers_after_stage': ['XOR2', 'IN0']}, {'gates': [{'type': 'XOR', 'name': 'XOR4', 'inputs': ['XOR3', 'AND3']}], 'free_registers_after_stage': []}, {'gates': [{'type': 'AND', 'name': 'AND10', 'inputs': ['XOR3', 'AND3']}], 'free_registers_after_stage': ['XOR3', 'AND3']}, {'gates': [{'type': 'OR', 'name': 'OR1', 'inputs': ['AND9', 'AND10']}], 'free_registers_after_stage': ['AND9', 'AND10']}, {'gates': [{'type': 'AND', 'name': 'AND11', 'inputs': ['IN_a4', 'IN_b7']}], 'free_registers_after_stage': []}, {'gates': [{'type': 'AND', 'name': 'AND12', 'inputs': ['IN_a5', 'IN_b6']}], 'free_registers_after_stage': []}, {'gates': [{'type': 'AND', 'name': 'AND13', 'inputs': ['IN_a6', 'IN_b5']}], 'free_registers_after_stage': []}, {'gates': [{'type': 'AND', 'name': 'AND14', 'inputs': ['IN_a7', 'IN_b4']}], 'free_registers_after_stage': []}, {'gates': [{'type': 'XOR', 'name': 'XOR5', 'inputs': ['AND11', 'AND12']}], 'free_registers_after_stage': []}, {'gates': [{'type': 'AND', 'name': 'AND15', 'inputs': ['AND11', 'AND12']}], 'free_registers_after_stage': ['AND11', 'AND12']}, {'gates': [{'type': 'XOR', 'name': 'XOR6', 'inputs': ['XOR5', 'AND13']}], 'free_registers_after_stage': []}, {'gates': [{'type': 'AND', 'name': 'AND16', 'inputs': ['XOR5', 'AND13']}], 'free_registers_after_stage': ['XOR5', 'AND13']}, {'gates': [{'type': 'OR', 'name': 'OR2', 'inputs': ['AND15', 'AND16']}], 'free_registers_after_stage': ['AND15', 'AND16']}, {'gates': [{'type': 'XOR', 'name': 'XOR7', 'inputs': ['XOR6', 'AND14']}], 'free_registers_after_stage': []}, {'gates': [{'type': 'AND', 'name': 'AND17', 'inputs': ['XOR6', 'AND14']}], 'free_registers_after_stage': ['XOR6', 'AND14']}, {'gates': [{'type': 'XOR', 'name': 'XOR8', 'inputs': ['XOR7', 'OR1']}], 'free_registers_after_stage': []}, {'gates': [{'type': 'AND', 'name': 'AND18', 'inputs': ['XOR7', 'OR1']}], 'free_registers_after_stage': ['XOR7', 'OR1']}, {'gates': [{'type': 'OR', 'name': 'OR3', 'inputs': ['AND17', 'AND18']}], 'free_registers_after_stage': ['AND17', 'AND18']}, {'gates': [{'type': 'XOR', 'name': 'XOR9', 'inputs': ['XOR8', 'IN1']}], 'free_registers_after_stage': []}, {'gates': [{'type': 'AND', 'name': 'AND19', 'inputs': ['XOR8', 'IN1']}], 'free_registers_after_stage': ['XOR8', 'IN1']}, {'gates': [{'type': 'XOR', 'name': 'XOR10', 'inputs': ['XOR9', 'OR0']}], 'free_registers_after_stage': []}, {'gates': [{'type': 'AND', 'name': 'AND20', 'inputs': ['XOR9', 'OR0']}], 'free_registers_after_stage': ['XOR9', 'OR0']}, {'gates': [{'type': 'OR', 'name': 'OR4', 'inputs': ['AND19', 'AND20']}], 'free_registers_after_stage': ['AND19', 'AND20']}, {'gates': [{'type': 'AND', 'name': 'AND21', 'inputs': ['IN_a4', 'IN_b6']}], 'free_registers_after_stage': []}, {'gates': [{'type': 'AND', 'name': 'AND22', 'inputs': ['IN_a5', 'IN_b5']}], 'free_registers_after_stage': []}, {'gates': [{'type': 'AND', 'name': 'AND23', 'inputs': ['IN_a6', 'IN_b4']}], 'free_registers_after_stage': []}, {'gates': [{'type': 'XOR', 'name': 'XOR11', 'inputs': ['AND21', 'AND22']}], 'free_registers_after_stage': []}, {'gates': [{'type': 'AND', 'name': 'AND24', 'inputs': ['AND21', 'AND22']}], 'free_registers_after_stage': ['AND21', 'AND22']}, {'gates': [{'type': 'XOR', 'name': 'XOR12', 'inputs': ['XOR11', 'AND23']}], 'free_registers_after_stage': []}, {'gates': [{'type': 'AND', 'name': 'AND25', 'inputs': ['XOR11', 'AND23']}], 'free_registers_after_stage': ['XOR11', 'AND23']}, {'gates': [{'type': 'OR', 'name': 'OR5', 'inputs': ['AND24', 'AND25']}], 'free_registers_after_stage': ['AND24', 'AND25']}, {'gates': [{'type': 'XOR', 'name': 'XOR13', 'inputs': ['XOR12', 'IN2']}], 'free_registers_after_stage': []}, {'gates': [{'type': 'AND', 'name': 'AND26', 'inputs': ['XOR12', 'IN2']}], 'free_registers_after_stage': ['XOR12', 'IN2']}, {'gates': [{'type': 'XOR', 'name': 'XOR14', 'inputs': ['XOR13', 'OR2']}], 'free_registers_after_stage': []}, {'gates': [{'type': 'AND', 'name': 'AND27', 'inputs': ['XOR13', 'OR2']}], 'free_registers_after_stage': ['XOR13', 'OR2']}, {'gates': [{'type': 'OR', 'name': 'OR6', 'inputs': ['AND26', 'AND27']}], 'free_registers_after_stage': ['AND26', 'AND27']}, {'gates': [{'type': 'XOR', 'name': 'XOR15', 'inputs': ['XOR14', 'OR4']}], 'free_registers_after_stage': []}, {'gates': [{'type': 'AND', 'name': 'AND28', 'inputs': ['XOR14', 'OR4']}], 'free_registers_after_stage': ['XOR14', 'OR4']}, {'gates': [{'type': 'XOR', 'name': 'XOR16', 'inputs': ['XOR15', 'OR3']}], 'free_registers_after_stage': []}, {'gates': [{'type': 'AND', 'name': 'AND29', 'inputs': ['XOR15', 'OR3']}], 'free_registers_after_stage': ['XOR15', 'OR3']}, {'gates': [{'type': 'OR', 'name': 'OR7', 'inputs': ['AND28', 'AND29']}], 'free_registers_after_stage': ['AND28', 'AND29']}, {'gates': [{'type': 'AND', 'name': 'AND30', 'inputs': ['IN_a4', 'IN_b5']}], 'free_registers_after_stage': []}, {'gates': [{'type': 'AND', 'name': 'AND31', 'inputs': ['IN_a5', 'IN_b4']}], 'free_registers_after_stage': []}, {'gates': [{'type': 'XOR', 'name': 'XOR17', 'inputs': ['AND30', 'AND31']}], 'free_registers_after_stage': []}, {'gates': [{'type': 'AND', 'name': 'AND32', 'inputs': ['AND30', 'AND31']}], 'free_registers_after_stage': ['AND30', 'AND31']}, {'gates': [{'type': 'XOR', 'name': 'XOR18', 'inputs': ['XOR17', 'OR7']}], 'free_registers_after_stage': []}, {'gates': [{'type': 'AND', 'name': 'AND33', 'inputs': ['XOR17', 'OR7']}], 'free_registers_after_stage': ['XOR17', 'OR7']}, {'gates': [{'type': 'OR', 'name': 'OR8', 'inputs': ['AND32', 'AND33']}], 'free_registers_after_stage': ['AND32', 'AND33']}, {'gates': [{'type': 'XOR', 'name': 'XOR19', 'inputs': ['XOR18', 'OR5']}], 'free_registers_after_stage': []}, {'gates': [{'type': 'AND', 'name': 'AND34', 'inputs': ['XOR18', 'OR5']}], 'free_registers_after_stage': ['XOR18', 'OR5']}, {'gates': [{'type': 'XOR', 'name': 'XOR20', 'inputs': ['XOR19', 'OR6']}], 'free_registers_after_stage': []}, {'gates': [{'type': 'AND', 'name': 'AND35', 'inputs': ['XOR19', 'OR6']}], 'free_registers_after_stage': ['XOR19', 'OR6']}, {'gates': [{'type': 'OR', 'name': 'OR9', 'inputs': ['AND34', 'AND35']}], 'free_registers_after_stage': ['AND34', 'AND35']}, {'gates': [{'type': 'AND', 'name': 'AND36', 'inputs': ['IN_a4', 'IN_b4']}], 'free_registers_after_stage': []}, {'gates': [{'type': 'XOR', 'name': 'XOR21', 'inputs': ['AND36', 'OR8']}], 'free_registers_after_stage': []}, {'gates': [{'type': 'AND', 'name': 'AND37', 'inputs': ['AND36', 'OR8']}], 'free_registers_after_stage': ['AND36', 'OR8']}, {'gates': [{'type': 'XOR', 'name': 'XOR22', 'inputs': ['XOR21', 'OR9']}], 'free_registers_after_stage': []}, {'gates': [{'type': 'AND', 'name': 'AND38', 'inputs': ['XOR21', 'OR9']}], 'free_registers_after_stage': ['XOR21', 'OR9']}, {'gates': [{'type': 'OR', 'name': 'OR10', 'inputs': ['AND37', 'AND38']}], 'free_registers_after_stage': ['AND37', 'AND38']}, {'gates': [{'type': 'AND', 'name': 'AND39', 'inputs': ['IN_a7', 'IN_b3']}], 'free_registers_after_stage': []}, {'gates': [{'type': 'AND', 'name': 'AND40', 'inputs': ['IN_a7', 'IN_b2']}], 'free_registers_after_stage': []}, {'gates': [{'type': 'AND', 'name': 'AND41', 'inputs': ['IN_a6', 'IN_b3']}], 'free_registers_after_stage': []}, {'gates': [{'type': 'XOR', 'name': 'XOR23', 'inputs': ['AND40', 'AND41']}], 'free_registers_after_stage': []}, {'gates': [{'type': 'AND', 'name': 'AND42', 'inputs': ['AND40', 'AND41']}], 'free_registers_after_stage': ['AND40', 'AND41']}, {'gates': [{'type': 'AND', 'name': 'AND43', 'inputs': ['IN_a5', 'IN_b3']}], 'free_registers_after_stage': []}, {'gates': [{'type': 'AND', 'name': 'AND44', 'inputs': ['IN_a6', 'IN_b2']}], 'free_registers_after_stage': []}, {'gates': [{'type': 'AND', 'name': 'AND45', 'inputs': ['IN_a7', 'IN_b1']}], 'free_registers_after_stage': []}, {'gates': [{'type': 'XOR', 'name': 'XOR24', 'inputs': ['AND43', 'AND44']}], 'free_registers_after_stage': []}, {'gates': [{'type': 'AND', 'name': 'AND46', 'inputs': ['AND43', 'AND44']}], 'free_registers_after_stage': ['AND43', 'AND44']}, {'gates': [{'type': 'XOR', 'name': 'XOR25', 'inputs': ['XOR24', 'AND45']}], 'free_registers_after_stage': []}, {'gates': [{'type': 'AND', 'name': 'AND47', 'inputs': ['XOR24', 'AND45']}], 'free_registers_after_stage': ['XOR24', 'AND45']}, {'gates': [{'type': 'OR', 'name': 'OR11', 'inputs': ['AND46', 'AND47']}], 'free_registers_after_stage': ['AND46', 'AND47']}, {'gates': [{'type': 'XOR', 'name': 'XOR26', 'inputs': ['XOR25', 'IN3']}], 'free_registers_after_stage': []}, {'gates': [{'type': 'AND', 'name': 'AND48', 'inputs': ['XOR25', 'IN3']}], 'free_registers_after_stage': ['XOR25', 'IN3']}, {'gates': [{'type': 'XOR', 'name': 'XOR27', 'inputs': ['XOR26', 'AND42']}], 'free_registers_after_stage': []}, {'gates': [{'type': 'AND', 'name': 'AND49', 'inputs': ['XOR26', 'AND42']}], 'free_registers_after_stage': ['XOR26', 'AND42']}, {'gates': [{'type': 'OR', 'name': 'OR12', 'inputs': ['AND48', 'AND49']}], 'free_registers_after_stage': ['AND48', 'AND49']}, {'gates': [{'type': 'AND', 'name': 'AND50', 'inputs': ['IN_a4', 'IN_b3']}], 'free_registers_after_stage': []}, {'gates': [{'type': 'AND', 'name': 'AND51', 'inputs': ['IN_a5', 'IN_b2']}], 'free_registers_after_stage': []}, {'gates': [{'type': 'AND', 'name': 'AND52', 'inputs': ['IN_a6', 'IN_b1']}], 'free_registers_after_stage': []}, {'gates': [{'type': 'AND', 'name': 'AND53', 'inputs': ['IN_a7', 'IN_b0']}], 'free_registers_after_stage': ['IN_a7']}, {'gates': [{'type': 'XOR', 'name': 'XOR28', 'inputs': ['AND50', 'AND51']}], 'free_registers_after_stage': []}, {'gates': [{'type': 'AND', 'name': 'AND54', 'inputs': ['AND50', 'AND51']}], 'free_registers_after_stage': ['AND50', 'AND51']}, {'gates': [{'type': 'XOR', 'name': 'XOR29', 'inputs': ['XOR28', 'AND52']}], 'free_registers_after_stage': []}, {'gates': [{'type': 'AND', 'name': 'AND55', 'inputs': ['XOR28', 'AND52']}], 'free_registers_after_stage': ['XOR28', 'AND52']}, {'gates': [{'type': 'OR', 'name': 'OR13', 'inputs': ['AND54', 'AND55']}], 'free_registers_after_stage': ['AND54', 'AND55']}, {'gates': [{'type': 'XOR', 'name': 'XOR30', 'inputs': ['XOR29', 'AND53']}], 'free_registers_after_stage': []}, {'gates': [{'type': 'AND', 'name': 'AND56', 'inputs': ['XOR29', 'AND53']}], 'free_registers_after_stage': ['XOR29', 'AND53']}, {'gates': [{'type': 'XOR', 'name': 'XOR31', 'inputs': ['XOR30', 'OR12']}], 'free_registers_after_stage': []}, {'gates': [{'type': 'AND', 'name': 'AND57', 'inputs': ['XOR30', 'OR12']}], 'free_registers_after_stage': ['XOR30', 'OR12']}, {'gates': [{'type': 'OR', 'name': 'OR14', 'inputs': ['AND56', 'AND57']}], 'free_registers_after_stage': ['AND56', 'AND57']}, {'gates': [{'type': 'XOR', 'name': 'XOR32', 'inputs': ['XOR31', 'IN4']}], 'free_registers_after_stage': []}, {'gates': [{'type': 'AND', 'name': 'AND58', 'inputs': ['XOR31', 'IN4']}], 'free_registers_after_stage': ['XOR31', 'IN4']}, {'gates': [{'type': 'XOR', 'name': 'XOR33', 'inputs': ['XOR32', 'OR11']}], 'free_registers_after_stage': []}, {'gates': [{'type': 'AND', 'name': 'AND59', 'inputs': ['XOR32', 'OR11']}], 'free_registers_after_stage': ['XOR32', 'OR11']}, {'gates': [{'type': 'OR', 'name': 'OR15', 'inputs': ['AND58', 'AND59']}], 'free_registers_after_stage': ['AND58', 'AND59']}, {'gates': [{'type': 'AND', 'name': 'AND60', 'inputs': ['IN_a4', 'IN_b2']}], 'free_registers_after_stage': []}, {'gates': [{'type': 'AND', 'name': 'AND61', 'inputs': ['IN_a5', 'IN_b1']}], 'free_registers_after_stage': []}, {'gates': [{'type': 'AND', 'name': 'AND62', 'inputs': ['IN_a6', 'IN_b0']}], 'free_registers_after_stage': ['IN_a6']}, {'gates': [{'type': 'XOR', 'name': 'XOR34', 'inputs': ['AND60', 'AND61']}], 'free_registers_after_stage': []}, {'gates': [{'type': 'AND', 'name': 'AND63', 'inputs': ['AND60', 'AND61']}], 'free_registers_after_stage': ['AND60', 'AND61']}, {'gates': [{'type': 'XOR', 'name': 'XOR35', 'inputs': ['XOR34', 'AND62']}], 'free_registers_after_stage': []}, {'gates': [{'type': 'AND', 'name': 'AND64', 'inputs': ['XOR34', 'AND62']}], 'free_registers_after_stage': ['XOR34', 'AND62']}, {'gates': [{'type': 'OR', 'name': 'OR16', 'inputs': ['AND63', 'AND64']}], 'free_registers_after_stage': ['AND63', 'AND64']}, {'gates': [{'type': 'XOR', 'name': 'XOR36', 'inputs': ['XOR35', 'IN5']}], 'free_registers_after_stage': []}, {'gates': [{'type': 'AND', 'name': 'AND65', 'inputs': ['XOR35', 'IN5']}], 'free_registers_after_stage': ['XOR35', 'IN5']}, {'gates': [{'type': 'XOR', 'name': 'XOR37', 'inputs': ['XOR36', 'OR13']}], 'free_registers_after_stage': []}, {'gates': [{'type': 'AND', 'name': 'AND66', 'inputs': ['XOR36', 'OR13']}], 'free_registers_after_stage': ['XOR36', 'OR13']}, {'gates': [{'type': 'OR', 'name': 'OR17', 'inputs': ['AND65', 'AND66']}], 'free_registers_after_stage': ['AND65', 'AND66']}, {'gates': [{'type': 'XOR', 'name': 'XOR38', 'inputs': ['XOR37', 'OR15']}], 'free_registers_after_stage': []}, {'gates': [{'type': 'AND', 'name': 'AND67', 'inputs': ['XOR37', 'OR15']}], 'free_registers_after_stage': ['XOR37', 'OR15']}, {'gates': [{'type': 'XOR', 'name': 'XOR39', 'inputs': ['XOR38', 'OR14']}], 'free_registers_after_stage': []}, {'gates': [{'type': 'AND', 'name': 'AND68', 'inputs': ['XOR38', 'OR14']}], 'free_registers_after_stage': ['XOR38', 'OR14']}, {'gates': [{'type': 'OR', 'name': 'OR18', 'inputs': ['AND67', 'AND68']}], 'free_registers_after_stage': ['AND67', 'AND68']}, {'gates': [{'type': 'AND', 'name': 'AND69', 'inputs': ['IN_a4', 'IN_b1']}], 'free_registers_after_stage': []}, {'gates': [{'type': 'AND', 'name': 'AND70', 'inputs': ['IN_a5', 'IN_b0']}], 'free_registers_after_stage': ['IN_a5']}, {'gates': [{'type': 'XOR', 'name': 'XOR40', 'inputs': ['AND69', 'AND70']}], 'free_registers_after_stage': []}, {'gates': [{'type': 'AND', 'name': 'AND71', 'inputs': ['AND69', 'AND70']}], 'free_registers_after_stage': ['AND69', 'AND70']}, {'gates': [{'type': 'XOR', 'name': 'XOR41', 'inputs': ['XOR40', 'OR18']}], 'free_registers_after_stage': []}, {'gates': [{'type': 'AND', 'name': 'AND72', 'inputs': ['XOR40', 'OR18']}], 'free_registers_after_stage': ['XOR40', 'OR18']}, {'gates': [{'type': 'OR', 'name': 'OR19', 'inputs': ['AND71', 'AND72']}], 'free_registers_after_stage': ['AND71', 'AND72']}, {'gates': [{'type': 'XOR', 'name': 'XOR42', 'inputs': ['XOR41', 'OR16']}], 'free_registers_after_stage': []}, {'gates': [{'type': 'AND', 'name': 'AND73', 'inputs': ['XOR41', 'OR16']}], 'free_registers_after_stage': ['XOR41', 'OR16']}, {'gates': [{'type': 'XOR', 'name': 'XOR43', 'inputs': ['XOR42', 'OR17']}], 'free_registers_after_stage': []}, {'gates': [{'type': 'AND', 'name': 'AND74', 'inputs': ['XOR42', 'OR17']}], 'free_registers_after_stage': ['XOR42', 'OR17']}, {'gates': [{'type': 'OR', 'name': 'OR20', 'inputs': ['AND73', 'AND74']}], 'free_registers_after_stage': ['AND73', 'AND74']}, {'gates': [{'type': 'AND', 'name': 'AND75', 'inputs': ['IN_a4', 'IN_b0']}], 'free_registers_after_stage': ['IN_a4']}, {'gates': [{'type': 'XOR', 'name': 'XOR44', 'inputs': ['AND75', 'OR19']}], 'free_registers_after_stage': []}, {'gates': [{'type': 'AND', 'name': 'AND76', 'inputs': ['AND75', 'OR19']}], 'free_registers_after_stage': ['AND75', 'OR19']}, {'gates': [{'type': 'XOR', 'name': 'XOR45', 'inputs': ['XOR44', 'OR20']}], 'free_registers_after_stage': []}, {'gates': [{'type': 'AND', 'name': 'AND77', 'inputs': ['XOR44', 'OR20']}], 'free_registers_after_stage': ['XOR44', 'OR20']}, {'gates': [{'type': 'OR', 'name': 'OR21', 'inputs': ['AND76', 'AND77']}], 'free_registers_after_stage': ['AND76', 'AND77']}, {'gates': [{'type': 'AND', 'name': 'AND78', 'inputs': ['IN_a3', 'IN_b7']}], 'free_registers_after_stage': []}, {'gates': [{'type': 'AND', 'name': 'AND79', 'inputs': ['IN_a3', 'IN_b6']}], 'free_registers_after_stage': []}, {'gates': [{'type': 'AND', 'name': 'AND80', 'inputs': ['IN_a2', 'IN_b7']}], 'free_registers_after_stage': []}, {'gates': [{'type': 'XOR', 'name': 'XOR46', 'inputs': ['AND79', 'AND80']}], 'free_registers_after_stage': []}, {'gates': [{'type': 'AND', 'name': 'AND81', 'inputs': ['AND79', 'AND80']}], 'free_registers_after_stage': ['AND79', 'AND80']}, {'gates': [{'type': 'AND', 'name': 'AND82', 'inputs': ['IN_a1', 'IN_b7']}], 'free_registers_after_stage': []}, {'gates': [{'type': 'AND', 'name': 'AND83', 'inputs': ['IN_a2', 'IN_b6']}], 'free_registers_after_stage': []}, {'gates': [{'type': 'AND', 'name': 'AND84', 'inputs': ['IN_a3', 'IN_b5']}], 'free_registers_after_stage': []}, {'gates': [{'type': 'XOR', 'name': 'XOR47', 'inputs': ['AND82', 'AND83']}], 'free_registers_after_stage': []}, {'gates': [{'type': 'AND', 'name': 'AND85', 'inputs': ['AND82', 'AND83']}], 'free_registers_after_stage': ['AND82', 'AND83']}, {'gates': [{'type': 'XOR', 'name': 'XOR48', 'inputs': ['XOR47', 'AND84']}], 'free_registers_after_stage': []}, {'gates': [{'type': 'AND', 'name': 'AND86', 'inputs': ['XOR47', 'AND84']}], 'free_registers_after_stage': ['XOR47', 'AND84']}, {'gates': [{'type': 'OR', 'name': 'OR22', 'inputs': ['AND85', 'AND86']}], 'free_registers_after_stage': ['AND85', 'AND86']}, {'gates': [{'type': 'XOR', 'name': 'XOR49', 'inputs': ['XOR48', 'IN6']}], 'free_registers_after_stage': []}, {'gates': [{'type': 'AND', 'name': 'AND87', 'inputs': ['XOR48', 'IN6']}], 'free_registers_after_stage': ['XOR48', 'IN6']}, {'gates': [{'type': 'XOR', 'name': 'XOR50', 'inputs': ['XOR49', 'AND81']}], 'free_registers_after_stage': []}, {'gates': [{'type': 'AND', 'name': 'AND88', 'inputs': ['XOR49', 'AND81']}], 'free_registers_after_stage': ['XOR49', 'AND81']}, {'gates': [{'type': 'OR', 'name': 'OR23', 'inputs': ['AND87', 'AND88']}], 'free_registers_after_stage': ['AND87', 'AND88']}, {'gates': [{'type': 'AND', 'name': 'AND89', 'inputs': ['IN_a0', 'IN_b7']}], 'free_registers_after_stage': ['IN_b7']}, {'gates': [{'type': 'AND', 'name': 'AND90', 'inputs': ['IN_a1', 'IN_b6']}], 'free_registers_after_stage': []}, {'gates': [{'type': 'AND', 'name': 'AND91', 'inputs': ['IN_a2', 'IN_b5']}], 'free_registers_after_stage': []}, {'gates': [{'type': 'AND', 'name': 'AND92', 'inputs': ['IN_a3', 'IN_b4']}], 'free_registers_after_stage': []}, {'gates': [{'type': 'XOR', 'name': 'XOR51', 'inputs': ['AND89', 'AND90']}], 'free_registers_after_stage': []}, {'gates': [{'type': 'AND', 'name': 'AND93', 'inputs': ['AND89', 'AND90']}], 'free_registers_after_stage': ['AND89', 'AND90']}, {'gates': [{'type': 'XOR', 'name': 'XOR52', 'inputs': ['XOR51', 'AND91']}], 'free_registers_after_stage': []}, {'gates': [{'type': 'AND', 'name': 'AND94', 'inputs': ['XOR51', 'AND91']}], 'free_registers_after_stage': ['XOR51', 'AND91']}, {'gates': [{'type': 'OR', 'name': 'OR24', 'inputs': ['AND93', 'AND94']}], 'free_registers_after_stage': ['AND93', 'AND94']}, {'gates': [{'type': 'XOR', 'name': 'XOR53', 'inputs': ['XOR52', 'AND92']}], 'free_registers_after_stage': []}, {'gates': [{'type': 'AND', 'name': 'AND95', 'inputs': ['XOR52', 'AND92']}], 'free_registers_after_stage': ['XOR52', 'AND92']}, {'gates': [{'type': 'XOR', 'name': 'XOR54', 'inputs': ['XOR53', 'OR23']}], 'free_registers_after_stage': []}, {'gates': [{'type': 'AND', 'name': 'AND96', 'inputs': ['XOR53', 'OR23']}], 'free_registers_after_stage': ['XOR53', 'OR23']}, {'gates': [{'type': 'OR', 'name': 'OR25', 'inputs': ['AND95', 'AND96']}], 'free_registers_after_stage': ['AND95', 'AND96']}, {'gates': [{'type': 'XOR', 'name': 'XOR55', 'inputs': ['XOR54', 'IN7']}], 'free_registers_after_stage': []}, {'gates': [{'type': 'AND', 'name': 'AND97', 'inputs': ['XOR54', 'IN7']}], 'free_registers_after_stage': ['XOR54', 'IN7']}, {'gates': [{'type': 'XOR', 'name': 'XOR56', 'inputs': ['XOR55', 'OR22']}], 'free_registers_after_stage': []}, {'gates': [{'type': 'AND', 'name': 'AND98', 'inputs': ['XOR55', 'OR22']}], 'free_registers_after_stage': ['XOR55', 'OR22']}, {'gates': [{'type': 'OR', 'name': 'OR26', 'inputs': ['AND97', 'AND98']}], 'free_registers_after_stage': ['AND97', 'AND98']}, {'gates': [{'type': 'AND', 'name': 'AND99', 'inputs': ['IN_a0', 'IN_b6']}], 'free_registers_after_stage': ['IN_b6']}, {'gates': [{'type': 'AND', 'name': 'AND100', 'inputs': ['IN_a1', 'IN_b5']}], 'free_registers_after_stage': []}, {'gates': [{'type': 'AND', 'name': 'AND101', 'inputs': ['IN_a2', 'IN_b4']}], 'free_registers_after_stage': []}, {'gates': [{'type': 'XOR', 'name': 'XOR57', 'inputs': ['AND99', 'AND100']}], 'free_registers_after_stage': []}, {'gates': [{'type': 'AND', 'name': 'AND102', 'inputs': ['AND99', 'AND100']}], 'free_registers_after_stage': ['AND99', 'AND100']}, {'gates': [{'type': 'XOR', 'name': 'XOR58', 'inputs': ['XOR57', 'AND101']}], 'free_registers_after_stage': []}, {'gates': [{'type': 'AND', 'name': 'AND103', 'inputs': ['XOR57', 'AND101']}], 'free_registers_after_stage': ['XOR57', 'AND101']}, {'gates': [{'type': 'OR', 'name': 'OR27', 'inputs': ['AND102', 'AND103']}], 'free_registers_after_stage': ['AND102', 'AND103']}, {'gates': [{'type': 'XOR', 'name': 'XOR59', 'inputs': ['XOR58', 'IN8']}], 'free_registers_after_stage': []}, {'gates': [{'type': 'AND', 'name': 'AND104', 'inputs': ['XOR58', 'IN8']}], 'free_registers_after_stage': ['XOR58', 'IN8']}, {'gates': [{'type': 'XOR', 'name': 'XOR60', 'inputs': ['XOR59', 'OR24']}], 'free_registers_after_stage': []}, {'gates': [{'type': 'AND', 'name': 'AND105', 'inputs': ['XOR59', 'OR24']}], 'free_registers_after_stage': ['XOR59', 'OR24']}, {'gates': [{'type': 'OR', 'name': 'OR28', 'inputs': ['AND104', 'AND105']}], 'free_registers_after_stage': ['AND104', 'AND105']}, {'gates': [{'type': 'XOR', 'name': 'XOR61', 'inputs': ['XOR60', 'OR26']}], 'free_registers_after_stage': []}, {'gates': [{'type': 'AND', 'name': 'AND106', 'inputs': ['XOR60', 'OR26']}], 'free_registers_after_stage': ['XOR60', 'OR26']}, {'gates': [{'type': 'XOR', 'name': 'XOR62', 'inputs': ['XOR61', 'OR25']}], 'free_registers_after_stage': []}, {'gates': [{'type': 'AND', 'name': 'AND107', 'inputs': ['XOR61', 'OR25']}], 'free_registers_after_stage': ['XOR61', 'OR25']}, {'gates': [{'type': 'OR', 'name': 'OR29', 'inputs': ['AND106', 'AND107']}], 'free_registers_after_stage': ['AND106', 'AND107']}, {'gates': [{'type': 'AND', 'name': 'AND108', 'inputs': ['IN_a0', 'IN_b5']}], 'free_registers_after_stage': ['IN_b5']}, {'gates': [{'type': 'AND', 'name': 'AND109', 'inputs': ['IN_a1', 'IN_b4']}], 'free_registers_after_stage': []}, {'gates': [{'type': 'XOR', 'name': 'XOR63', 'inputs': ['AND108', 'AND109']}], 'free_registers_after_stage': []}, {'gates': [{'type': 'AND', 'name': 'AND110', 'inputs': ['AND108', 'AND109']}], 'free_registers_after_stage': ['AND108', 'AND109']}, {'gates': [{'type': 'XOR', 'name': 'XOR64', 'inputs': ['XOR63', 'OR29']}], 'free_registers_after_stage': []}, {'gates': [{'type': 'AND', 'name': 'AND111', 'inputs': ['XOR63', 'OR29']}], 'free_registers_after_stage': ['XOR63', 'OR29']}, {'gates': [{'type': 'OR', 'name': 'OR30', 'inputs': ['AND110', 'AND111']}], 'free_registers_after_stage': ['AND110', 'AND111']}, {'gates': [{'type': 'XOR', 'name': 'XOR65', 'inputs': ['XOR64', 'OR27']}], 'free_registers_after_stage': []}, {'gates': [{'type': 'AND', 'name': 'AND112', 'inputs': ['XOR64', 'OR27']}], 'free_registers_after_stage': ['XOR64', 'OR27']}, {'gates': [{'type': 'XOR', 'name': 'XOR66', 'inputs': ['XOR65', 'OR28']}], 'free_registers_after_stage': []}, {'gates': [{'type': 'AND', 'name': 'AND113', 'inputs': ['XOR65', 'OR28']}], 'free_registers_after_stage': ['XOR65', 'OR28']}, {'gates': [{'type': 'OR', 'name': 'OR31', 'inputs': ['AND112', 'AND113']}], 'free_registers_after_stage': ['AND112', 'AND113']}, {'gates': [{'type': 'AND', 'name': 'AND114', 'inputs': ['IN_a0', 'IN_b4']}], 'free_registers_after_stage': ['IN_b4']}, {'gates': [{'type': 'XOR', 'name': 'XOR67', 'inputs': ['AND114', 'OR30']}], 'free_registers_after_stage': []}, {'gates': [{'type': 'AND', 'name': 'AND115', 'inputs': ['AND114', 'OR30']}], 'free_registers_after_stage': ['AND114', 'OR30']}, {'gates': [{'type': 'XOR', 'name': 'XOR68', 'inputs': ['XOR67', 'OR31']}], 'free_registers_after_stage': []}, {'gates': [{'type': 'AND', 'name': 'AND116', 'inputs': ['XOR67', 'OR31']}], 'free_registers_after_stage': ['XOR67', 'OR31']}, {'gates': [{'type': 'OR', 'name': 'OR32', 'inputs': ['AND115', 'AND116']}], 'free_registers_after_stage': ['AND115', 'AND116']}, {'gates': [{'type': 'AND', 'name': 'AND117', 'inputs': ['IN_a3', 'IN_b3']}], 'free_registers_after_stage': []}, {'gates': [{'type': 'AND', 'name': 'AND118', 'inputs': ['IN_a3', 'IN_b2']}], 'free_registers_after_stage': []}, {'gates': [{'type': 'AND', 'name': 'AND119', 'inputs': ['IN_a2', 'IN_b3']}], 'free_registers_after_stage': []}, {'gates': [{'type': 'XOR', 'name': 'XOR69', 'inputs': ['AND118', 'AND119']}], 'free_registers_after_stage': []}, {'gates': [{'type': 'AND', 'name': 'AND120', 'inputs': ['AND118', 'AND119']}], 'free_registers_after_stage': ['AND118', 'AND119']}, {'gates': [{'type': 'AND', 'name': 'AND121', 'inputs': ['IN_a1', 'IN_b3']}], 'free_registers_after_stage': []}, {'gates': [{'type': 'AND', 'name': 'AND122', 'inputs': ['IN_a2', 'IN_b2']}], 'free_registers_after_stage': []}, {'gates': [{'type': 'AND', 'name': 'AND123', 'inputs': ['IN_a3', 'IN_b1']}], 'free_registers_after_stage': []}, {'gates': [{'type': 'XOR', 'name': 'XOR70', 'inputs': ['AND121', 'AND122']}], 'free_registers_after_stage': []}, {'gates': [{'type': 'AND', 'name': 'AND124', 'inputs': ['AND121', 'AND122']}], 'free_registers_after_stage': ['AND121', 'AND122']}, {'gates': [{'type': 'XOR', 'name': 'XOR71', 'inputs': ['XOR70', 'AND123']}], 'free_registers_after_stage': []}, {'gates': [{'type': 'AND', 'name': 'AND125', 'inputs': ['XOR70', 'AND123']}], 'free_registers_after_stage': ['XOR70', 'AND123']}, {'gates': [{'type': 'OR', 'name': 'OR33', 'inputs': ['AND124', 'AND125']}], 'free_registers_after_stage': ['AND124', 'AND125']}, {'gates': [{'type': 'XOR', 'name': 'XOR72', 'inputs': ['XOR71', 'IN9']}], 'free_registers_after_stage': []}, {'gates': [{'type': 'AND', 'name': 'AND126', 'inputs': ['XOR71', 'IN9']}], 'free_registers_after_stage': ['XOR71', 'IN9']}, {'gates': [{'type': 'XOR', 'name': 'XOR73', 'inputs': ['XOR72', 'AND120']}], 'free_registers_after_stage': []}, {'gates': [{'type': 'AND', 'name': 'AND127', 'inputs': ['XOR72', 'AND120']}], 'free_registers_after_stage': ['XOR72', 'AND120']}, {'gates': [{'type': 'OR', 'name': 'OR34', 'inputs': ['AND126', 'AND127']}], 'free_registers_after_stage': ['AND126', 'AND127']}, {'gates': [{'type': 'AND', 'name': 'AND128', 'inputs': ['IN_a0', 'IN_b3']}], 'free_registers_after_stage': ['IN_b3']}, {'gates': [{'type': 'AND', 'name': 'AND129', 'inputs': ['IN_a1', 'IN_b2']}], 'free_registers_after_stage': []}, {'gates': [{'type': 'AND', 'name': 'AND130', 'inputs': ['IN_a2', 'IN_b1']}], 'free_registers_after_stage': []}, {'gates': [{'type': 'AND', 'name': 'AND131', 'inputs': ['IN_a3', 'IN_b0']}], 'free_registers_after_stage': ['IN_a3']}, {'gates': [{'type': 'XOR', 'name': 'XOR74', 'inputs': ['AND128', 'AND129']}], 'free_registers_after_stage': []}, {'gates': [{'type': 'AND', 'name': 'AND132', 'inputs': ['AND128', 'AND129']}], 'free_registers_after_stage': ['AND128', 'AND129']}, {'gates': [{'type': 'XOR', 'name': 'XOR75', 'inputs': ['XOR74', 'AND130']}], 'free_registers_after_stage': []}, {'gates': [{'type': 'AND', 'name': 'AND133', 'inputs': ['XOR74', 'AND130']}], 'free_registers_after_stage': ['XOR74', 'AND130']}, {'gates': [{'type': 'OR', 'name': 'OR35', 'inputs': ['AND132', 'AND133']}], 'free_registers_after_stage': ['AND132', 'AND133']}, {'gates': [{'type': 'XOR', 'name': 'XOR76', 'inputs': ['XOR75', 'AND131']}], 'free_registers_after_stage': []}, {'gates': [{'type': 'AND', 'name': 'AND134', 'inputs': ['XOR75', 'AND131']}], 'free_registers_after_stage': ['XOR75', 'AND131']}, {'gates': [{'type': 'XOR', 'name': 'XOR77', 'inputs': ['XOR76', 'OR34']}], 'free_registers_after_stage': []}, {'gates': [{'type': 'AND', 'name': 'AND135', 'inputs': ['XOR76', 'OR34']}], 'free_registers_after_stage': ['XOR76', 'OR34']}, {'gates': [{'type': 'OR', 'name': 'OR36', 'inputs': ['AND134', 'AND135']}], 'free_registers_after_stage': ['AND134', 'AND135']}, {'gates': [{'type': 'XOR', 'name': 'XOR78', 'inputs': ['XOR77', 'IN10']}], 'free_registers_after_stage': []}, {'gates': [{'type': 'AND', 'name': 'AND136', 'inputs': ['XOR77', 'IN10']}], 'free_registers_after_stage': ['XOR77', 'IN10']}, {'gates': [{'type': 'XOR', 'name': 'XOR79', 'inputs': ['XOR78', 'OR33']}], 'free_registers_after_stage': []}, {'gates': [{'type': 'AND', 'name': 'AND137', 'inputs': ['XOR78', 'OR33']}], 'free_registers_after_stage': ['XOR78', 'OR33']}, {'gates': [{'type': 'OR', 'name': 'OR37', 'inputs': ['AND136', 'AND137']}], 'free_registers_after_stage': ['AND136', 'AND137']}, {'gates': [{'type': 'AND', 'name': 'AND138', 'inputs': ['IN_a0', 'IN_b2']}], 'free_registers_after_stage': ['IN_b2']}, {'gates': [{'type': 'AND', 'name': 'AND139', 'inputs': ['IN_a1', 'IN_b1']}], 'free_registers_after_stage': []}, {'gates': [{'type': 'AND', 'name': 'AND140', 'inputs': ['IN_a2', 'IN_b0']}], 'free_registers_after_stage': ['IN_a2']}, {'gates': [{'type': 'XOR', 'name': 'XOR80', 'inputs': ['AND138', 'AND139']}], 'free_registers_after_stage': []}, {'gates': [{'type': 'AND', 'name': 'AND141', 'inputs': ['AND138', 'AND139']}], 'free_registers_after_stage': ['AND138', 'AND139']}, {'gates': [{'type': 'XOR', 'name': 'XOR81', 'inputs': ['XOR80', 'AND140']}], 'free_registers_after_stage': []}, {'gates': [{'type': 'AND', 'name': 'AND142', 'inputs': ['XOR80', 'AND140']}], 'free_registers_after_stage': ['XOR80', 'AND140']}, {'gates': [{'type': 'OR', 'name': 'OR38', 'inputs': ['AND141', 'AND142']}], 'free_registers_after_stage': ['AND141', 'AND142']}, {'gates': [{'type': 'XOR', 'name': 'XOR82', 'inputs': ['XOR81', 'IN11']}], 'free_registers_after_stage': []}, {'gates': [{'type': 'AND', 'name': 'AND143', 'inputs': ['XOR81', 'IN11']}], 'free_registers_after_stage': ['XOR81', 'IN11']}, {'gates': [{'type': 'XOR', 'name': 'XOR83', 'inputs': ['XOR82', 'OR35']}], 'free_registers_after_stage': []}, {'gates': [{'type': 'AND', 'name': 'AND144', 'inputs': ['XOR82', 'OR35']}], 'free_registers_after_stage': ['XOR82', 'OR35']}, {'gates': [{'type': 'OR', 'name': 'OR39', 'inputs': ['AND143', 'AND144']}], 'free_registers_after_stage': ['AND143', 'AND144']}, {'gates': [{'type': 'XOR', 'name': 'XOR84', 'inputs': ['XOR83', 'OR37']}], 'free_registers_after_stage': []}, {'gates': [{'type': 'AND', 'name': 'AND145', 'inputs': ['XOR83', 'OR37']}], 'free_registers_after_stage': ['XOR83', 'OR37']}, {'gates': [{'type': 'XOR', 'name': 'XOR85', 'inputs': ['XOR84', 'OR36']}], 'free_registers_after_stage': []}, {'gates': [{'type': 'AND', 'name': 'AND146', 'inputs': ['XOR84', 'OR36']}], 'free_registers_after_stage': ['XOR84', 'OR36']}, {'gates': [{'type': 'OR', 'name': 'OR40', 'inputs': ['AND145', 'AND146']}], 'free_registers_after_stage': ['AND145', 'AND146']}, {'gates': [{'type': 'AND', 'name': 'AND147', 'inputs': ['IN_a0', 'IN_b1']}], 'free_registers_after_stage': ['IN_b1']}, {'gates': [{'type': 'AND', 'name': 'AND148', 'inputs': ['IN_a1', 'IN_b0']}], 'free_registers_after_stage': ['IN_a1']}, {'gates': [{'type': 'XOR', 'name': 'XOR86', 'inputs': ['AND147', 'AND148']}], 'free_registers_after_stage': []}, {'gates': [{'type': 'AND', 'name': 'AND149', 'inputs': ['AND147', 'AND148']}], 'free_registers_after_stage': ['AND147', 'AND148']}, {'gates': [{'type': 'XOR', 'name': 'XOR87', 'inputs': ['XOR86', 'OR40']}], 'free_registers_after_stage': []}, {'gates': [{'type': 'AND', 'name': 'AND150', 'inputs': ['XOR86', 'OR40']}], 'free_registers_after_stage': ['XOR86', 'OR40']}, {'gates': [{'type': 'OR', 'name': 'OR41', 'inputs': ['AND149', 'AND150']}], 'free_registers_after_stage': ['AND149', 'AND150']}, {'gates': [{'type': 'XOR', 'name': 'XOR88', 'inputs': ['XOR87', 'OR38']}], 'free_registers_after_stage': []}, {'gates': [{'type': 'AND', 'name': 'AND151', 'inputs': ['XOR87', 'OR38']}], 'free_registers_after_stage': ['XOR87', 'OR38']}, {'gates': [{'type': 'XOR', 'name': 'XOR89', 'inputs': ['XOR88', 'OR39']}], 'free_registers_after_stage': []}, {'gates': [{'type': 'AND', 'name': 'AND152', 'inputs': ['XOR88', 'OR39']}], 'free_registers_after_stage': ['XOR88', 'OR39']}, {'gates': [{'type': 'OR', 'name': 'OR42', 'inputs': ['AND151', 'AND152']}], 'free_registers_after_stage': ['AND151', 'AND152']}, {'gates': [{'type': 'AND', 'name': 'AND153', 'inputs': ['IN_a0', 'IN_b0']}], 'free_registers_after_stage': ['IN_a0', 'IN_b0']}, {'gates': [{'type': 'XOR', 'name': 'XOR90', 'inputs': ['AND153', 'OR41']}], 'free_registers_after_stage': []}, {'gates': [{'type': 'AND', 'name': 'AND154', 'inputs': ['AND153', 'OR41']}], 'free_registers_after_stage': ['AND153', 'OR41']}, {'gates': [{'type': 'XOR', 'name': 'XOR91', 'inputs': ['XOR90', 'OR42']}], 'free_registers_after_stage': []}, {'gates': [{'type': 'AND', 'name': 'AND155', 'inputs': ['XOR90', 'OR42']}], 'free_registers_after_stage': ['XOR90', 'OR42']}, {'gates': [{'type': 'OR', 'name': 'OR43', 'inputs': ['AND154', 'AND155']}], 'free_registers_after_stage': ['AND154', 'AND155']}, {'gates': [{'type': 'XOR', 'name': 'XOR92', 'inputs': ['XOR16', 'AND39']}], 'free_registers_after_stage': []}, {'gates': [{'type': 'AND', 'name': 'AND156', 'inputs': ['XOR16', 'AND39']}], 'free_registers_after_stage': ['XOR16', 'AND39']}, {'gates': [{'type': 'XOR', 'name': 'XOR93', 'inputs': ['XOR92', 'AND78']}], 'free_registers_after_stage': []}, {'gates': [{'type': 'AND', 'name': 'AND157', 'inputs': ['XOR92', 'AND78']}], 'free_registers_after_stage': ['XOR92', 'AND78']}, {'gates': [{'type': 'OR', 'name': 'OR44', 'inputs': ['AND156', 'AND157']}], 'free_registers_after_stage': ['AND156', 'AND157']}, {'gates': [{'type': 'XOR', 'name': 'XOR94', 'inputs': ['XOR93', 'IN12']}], 'free_registers_after_stage': []}, {'gates': [{'type': 'AND', 'name': 'AND158', 'inputs': ['XOR93', 'IN12']}], 'free_registers_after_stage': ['XOR93', 'IN12']}, {'gates': [{'type': 'XOR', 'name': 'XOR95', 'inputs': ['XOR94', 'IN13']}], 'free_registers_after_stage': []}, {'gates': [{'type': 'AND', 'name': 'AND159', 'inputs': ['XOR94', 'IN13']}], 'free_registers_after_stage': ['XOR94', 'IN13']}, {'gates': [{'type': 'OR', 'name': 'OR45', 'inputs': ['AND158', 'AND159']}], 'free_registers_after_stage': ['AND158', 'AND159']}, {'gates': [{'type': 'XOR', 'name': 'XOR96', 'inputs': ['XOR20', 'XOR23']}], 'free_registers_after_stage': []}, {'gates': [{'type': 'AND', 'name': 'AND160', 'inputs': ['XOR20', 'XOR23']}], 'free_registers_after_stage': ['XOR20', 'XOR23']}, {'gates': [{'type': 'XOR', 'name': 'XOR97', 'inputs': ['XOR96', 'XOR46']}], 'free_registers_after_stage': []}, {'gates': [{'type': 'AND', 'name': 'AND161', 'inputs': ['XOR96', 'XOR46']}], 'free_registers_after_stage': ['XOR96', 'XOR46']}, {'gates': [{'type': 'OR', 'name': 'OR46', 'inputs': ['AND160', 'AND161']}], 'free_registers_after_stage': ['AND160', 'AND161']}, {'gates': [{'type': 'XOR', 'name': 'XOR98', 'inputs': ['XOR97', 'OR45']}], 'free_registers_after_stage': []}, {'gates': [{'type': 'AND', 'name': 'AND162', 'inputs': ['XOR97', 'OR45']}], 'free_registers_after_stage': ['XOR97', 'OR45']}, {'gates': [{'type': 'XOR', 'name': 'XOR99', 'inputs': ['XOR98', 'OR44']}], 'free_registers_after_stage': []}, {'gates': [{'type': 'AND', 'name': 'AND163', 'inputs': ['XOR98', 'OR44']}], 'free_registers_after_stage': ['XOR98', 'OR44']}, {'gates': [{'type': 'OR', 'name': 'OR47', 'inputs': ['AND162', 'AND163']}], 'free_registers_after_stage': ['AND162', 'AND163']}, {'gates': [{'type': 'XOR', 'name': 'XOR100', 'inputs': ['XOR22', 'XOR27']}], 'free_registers_after_stage': []}, {'gates': [{'type': 'AND', 'name': 'AND164', 'inputs': ['XOR22', 'XOR27']}], 'free_registers_after_stage': ['XOR22', 'XOR27']}, {'gates': [{'type': 'XOR', 'name': 'XOR101', 'inputs': ['XOR100', 'XOR50']}], 'free_registers_after_stage': []}, {'gates': [{'type': 'AND', 'name': 'AND165', 'inputs': ['XOR100', 'XOR50']}], 'free_registers_after_stage': ['XOR100', 'XOR50']}, {'gates': [{'type': 'OR', 'name': 'OR48', 'inputs': ['AND164', 'AND165']}], 'free_registers_after_stage': ['AND164', 'AND165']}, {'gates': [{'type': 'XOR', 'name': 'XOR102', 'inputs': ['XOR101', 'OR47']}], 'free_registers_after_stage': []}, {'gates': [{'type': 'AND', 'name': 'AND166', 'inputs': ['XOR101', 'OR47']}], 'free_registers_after_stage': ['XOR101', 'OR47']}, {'gates': [{'type': 'XOR', 'name': 'XOR103', 'inputs': ['XOR102', 'OR46']}], 'free_registers_after_stage': []}, {'gates': [{'type': 'AND', 'name': 'AND167', 'inputs': ['XOR102', 'OR46']}], 'free_registers_after_stage': ['XOR102', 'OR46']}, {'gates': [{'type': 'OR', 'name': 'OR49', 'inputs': ['AND166', 'AND167']}], 'free_registers_after_stage': ['AND166', 'AND167']}, {'gates': [{'type': 'XOR', 'name': 'XOR104', 'inputs': ['OR10', 'XOR33']}], 'free_registers_after_stage': []}, {'gates': [{'type': 'AND', 'name': 'AND168', 'inputs': ['OR10', 'XOR33']}], 'free_registers_after_stage': ['OR10', 'XOR33']}, {'gates': [{'type': 'XOR', 'name': 'XOR105', 'inputs': ['XOR104', 'XOR56']}], 'free_registers_after_stage': []}, {'gates': [{'type': 'AND', 'name': 'AND169', 'inputs': ['XOR104', 'XOR56']}], 'free_registers_after_stage': ['XOR104', 'XOR56']}, {'gates': [{'type': 'OR', 'name': 'OR50', 'inputs': ['AND168', 'AND169']}], 'free_registers_after_stage': ['AND168', 'AND169']}, {'gates': [{'type': 'XOR', 'name': 'XOR106', 'inputs': ['XOR105', 'OR49']}], 'free_registers_after_stage': []}, {'gates': [{'type': 'AND', 'name': 'AND170', 'inputs': ['XOR105', 'OR49']}], 'free_registers_after_stage': ['XOR105', 'OR49']}, {'gates': [{'type': 'XOR', 'name': 'XOR107', 'inputs': ['XOR106', 'OR48']}], 'free_registers_after_stage': []}, {'gates': [{'type': 'AND', 'name': 'AND171', 'inputs': ['XOR106', 'OR48']}], 'free_registers_after_stage': ['XOR106', 'OR48']}, {'gates': [{'type': 'OR', 'name': 'OR51', 'inputs': ['AND170', 'AND171']}], 'free_registers_after_stage': ['AND170', 'AND171']}, {'gates': [{'type': 'XOR', 'name': 'XOR108', 'inputs': ['AND117', 'XOR39']}], 'free_registers_after_stage': []}, {'gates': [{'type': 'AND', 'name': 'AND172', 'inputs': ['AND117', 'XOR39']}], 'free_registers_after_stage': ['AND117', 'XOR39']}, {'gates': [{'type': 'XOR', 'name': 'XOR109', 'inputs': ['XOR108', 'XOR62']}], 'free_registers_after_stage': []}, {'gates': [{'type': 'AND', 'name': 'AND173', 'inputs': ['XOR108', 'XOR62']}], 'free_registers_after_stage': ['XOR108', 'XOR62']}, {'gates': [{'type': 'OR', 'name': 'OR52', 'inputs': ['AND172', 'AND173']}], 'free_registers_after_stage': ['AND172', 'AND173']}, {'gates': [{'type': 'XOR', 'name': 'XOR110', 'inputs': ['XOR109', 'OR51']}], 'free_registers_after_stage': []}, {'gates': [{'type': 'AND', 'name': 'AND174', 'inputs': ['XOR109', 'OR51']}], 'free_registers_after_stage': ['XOR109', 'OR51']}, {'gates': [{'type': 'XOR', 'name': 'XOR111', 'inputs': ['XOR110', 'OR50']}], 'free_registers_after_stage': []}, {'gates': [{'type': 'AND', 'name': 'AND175', 'inputs': ['XOR110', 'OR50']}], 'free_registers_after_stage': ['XOR110', 'OR50']}, {'gates': [{'type': 'OR', 'name': 'OR53', 'inputs': ['AND174', 'AND175']}], 'free_registers_after_stage': ['AND174', 'AND175']}, {'gates': [{'type': 'XOR', 'name': 'XOR112', 'inputs': ['XOR69', 'XOR43']}], 'free_registers_after_stage': []}, {'gates': [{'type': 'AND', 'name': 'AND176', 'inputs': ['XOR69', 'XOR43']}], 'free_registers_after_stage': ['XOR69', 'XOR43']}, {'gates': [{'type': 'XOR', 'name': 'XOR113', 'inputs': ['XOR112', 'XOR66']}], 'free_registers_after_stage': []}, {'gates': [{'type': 'AND', 'name': 'AND177', 'inputs': ['XOR112', 'XOR66']}], 'free_registers_after_stage': ['XOR112', 'XOR66']}, {'gates': [{'type': 'OR', 'name': 'OR54', 'inputs': ['AND176', 'AND177']}], 'free_registers_after_stage': ['AND176', 'AND177']}, {'gates': [{'type': 'XOR', 'name': 'XOR114', 'inputs': ['XOR113', 'OR53']}], 'free_registers_after_stage': []}, {'gates': [{'type': 'AND', 'name': 'AND178', 'inputs': ['XOR113', 'OR53']}], 'free_registers_after_stage': ['XOR113', 'OR53']}, {'gates': [{'type': 'XOR', 'name': 'XOR115', 'inputs': ['XOR114', 'OR52']}], 'free_registers_after_stage': []}, {'gates': [{'type': 'AND', 'name': 'AND179', 'inputs': ['XOR114', 'OR52']}], 'free_registers_after_stage': ['XOR114', 'OR52']}, {'gates': [{'type': 'OR', 'name': 'OR55', 'inputs': ['AND178', 'AND179']}], 'free_registers_after_stage': ['AND178', 'AND179']}, {'gates': [{'type': 'XOR', 'name': 'XOR116', 'inputs': ['XOR73', 'XOR45']}], 'free_registers_after_stage': []}, {'gates': [{'type': 'AND', 'name': 'AND180', 'inputs': ['XOR73', 'XOR45']}], 'free_registers_after_stage': ['XOR73', 'XOR45']}, {'gates': [{'type': 'XOR', 'name': 'XOR117', 'inputs': ['XOR116', 'XOR68']}], 'free_registers_after_stage': []}, {'gates': [{'type': 'AND', 'name': 'AND181', 'inputs': ['XOR116', 'XOR68']}], 'free_registers_after_stage': ['XOR116', 'XOR68']}, {'gates': [{'type': 'OR', 'name': 'OR56', 'inputs': ['AND180', 'AND181']}], 'free_registers_after_stage': ['AND180', 'AND181']}, {'gates': [{'type': 'XOR', 'name': 'XOR118', 'inputs': ['XOR117', 'OR55']}], 'free_registers_after_stage': []}, {'gates': [{'type': 'AND', 'name': 'AND182', 'inputs': ['XOR117', 'OR55']}], 'free_registers_after_stage': ['XOR117', 'OR55']}, {'gates': [{'type': 'XOR', 'name': 'XOR119', 'inputs': ['XOR118', 'OR54']}], 'free_registers_after_stage': []}, {'gates': [{'type': 'AND', 'name': 'AND183', 'inputs': ['XOR118', 'OR54']}], 'free_registers_after_stage': ['XOR118', 'OR54']}, {'gates': [{'type': 'OR', 'name': 'OR57', 'inputs': ['AND182', 'AND183']}], 'free_registers_after_stage': ['AND182', 'AND183']}, {'gates': [{'type': 'XOR', 'name': 'XOR120', 'inputs': ['XOR79', 'OR21']}], 'free_registers_after_stage': []}, {'gates': [{'type': 'AND', 'name': 'AND184', 'inputs': ['XOR79', 'OR21']}], 'free_registers_after_stage': ['XOR79', 'OR21']}, {'gates': [{'type': 'XOR', 'name': 'XOR121', 'inputs': ['XOR120', 'OR32']}], 'free_registers_after_stage': []}, {'gates': [{'type': 'AND', 'name': 'AND185', 'inputs': ['XOR120', 'OR32']}], 'free_registers_after_stage': ['XOR120', 'OR32']}, {'gates': [{'type': 'OR', 'name': 'OR58', 'inputs': ['AND184', 'AND185']}], 'free_registers_after_stage': ['AND184', 'AND185']}, {'gates': [{'type': 'XOR', 'name': 'XOR122', 'inputs': ['XOR121', 'OR57']}], 'free_registers_after_stage': []}, {'gates': [{'type': 'AND', 'name': 'AND186', 'inputs': ['XOR121', 'OR57']}], 'free_registers_after_stage': ['XOR121', 'OR57']}, {'gates': [{'type': 'XOR', 'name': 'XOR123', 'inputs': ['XOR122', 'OR56']}], 'free_registers_after_stage': []}, {'gates': [{'type': 'AND', 'name': 'AND187', 'inputs': ['XOR122', 'OR56']}], 'free_registers_after_stage': ['XOR122', 'OR56']}, {'gates': [{'type': 'OR', 'name': 'OR59', 'inputs': ['AND186', 'AND187']}], 'free_registers_after_stage': ['AND186', 'AND187']}, {'gates': [{'type': 'XOR', 'name': 'XOR124', 'inputs': ['XOR85', 'OR59']}], 'free_registers_after_stage': []}, {'gates': [{'type': 'AND', 'name': 'AND188', 'inputs': ['XOR85', 'OR59']}], 'free_registers_after_stage': ['XOR85', 'OR59']}, {'gates': [{'type': 'XOR', 'name': 'XOR125', 'inputs': ['XOR124', 'OR58']}], 'free_registers_after_stage': []}, {'gates': [{'type': 'AND', 'name': 'AND189', 'inputs': ['XOR124', 'OR58']}], 'free_registers_after_stage': ['XOR124', 'OR58']}, {'gates': [{'type': 'OR', 'name': 'OR60', 'inputs': ['AND188', 'AND189']}], 'free_registers_after_stage': ['AND188', 'AND189']}, {'gates': [{'type': 'XOR', 'name': 'XOR126', 'inputs': ['XOR89', 'OR60']}], 'free_registers_after_stage': []}, {'gates': [{'type': 'AND', 'name': 'AND190', 'inputs': ['XOR89', 'OR60']}], 'free_registers_after_stage': ['XOR89', 'OR60']}, {'gates': [{'type': 'XOR', 'name': 'XOR127', 'inputs': ['XOR91', 'AND190']}], 'free_registers_after_stage': []}, {'gates': [{'type': 'AND', 'name': 'AND191', 'inputs': ['XOR91', 'AND190']}], 'free_registers_after_stage': ['XOR91', 'AND190']}, {'gates': [{'type': 'XOR', 'name': 'XOR128', 'inputs': ['OR43', 'AND191']}], 'free_registers_after_stage': ['OR43', 'AND191']}, {'gates': [], 'free_registers_after_stage': []}]}\n"
     ]
    }
   ],
   "source": [
    "import json\n",
    "import os\n",
    "\n",
    "# import circuit config\n",
    "circuit = json.load(open('config.json'))\n",
    "print(circuit)\n",
    "\n",
    "parallelism = 1 # number of gates that can maximally be executed in parallel\n",
    "\n",
    "registers_translation = {label:index for index, label in enumerate(circuit[\"input_registers\"])}\n",
    "reservable_registers = {label:False for label in circuit[\"input_registers\"]} # label of register : is register free to use\n",
    "\n",
    "num_registers = len(registers_translation)\n",
    "num_free_registers = 0\n",
    "\n",
    "imply_logic_strings_parallel = []\n",
    "AND_count = 0\n",
    "OR_count = 0\n",
    "NOT_count = 0\n",
    "XOR_count = 0"
   ]
  },
  {
   "cell_type": "markdown",
   "metadata": {},
   "source": [
    "# Helper functions to administer registers"
   ]
  },
  {
   "cell_type": "code",
   "execution_count": 11,
   "metadata": {},
   "outputs": [],
   "source": [
    "def allocate_registers(num_alloc):\n",
    "    global num_registers, num_free_registers, reservable_registers\n",
    "    # allocate new registers if needed\n",
    "    startRegisterLabel = len(registers_translation)-len(circuit[\"input_registers\"])\n",
    "    for i in range(num_alloc):\n",
    "        new_register_label = f\"w{startRegisterLabel+i}\"\n",
    "        new_register_idx = num_registers\n",
    "\n",
    "        registers_translation.update({new_register_label:new_register_idx})\n",
    "        reservable_registers.update({new_register_label:True})\n",
    "\n",
    "        num_registers = num_registers + 1\n",
    "        num_free_registers = num_free_registers + 1\n",
    "\n",
    "def reserve_registers(num_req_registers):\n",
    "    global num_registers, num_free_registers, reservable_registers\n",
    "    # check if enough free registers are available\n",
    "    if num_req_registers > num_free_registers:\n",
    "        allocate_registers(num_req_registers - num_free_registers)\n",
    "\n",
    "    reserved_registers = []\n",
    "    for _ in range(num_req_registers):\n",
    "        # look for a free register\n",
    "        for register, status in reservable_registers.items():\n",
    "            if status == False:\n",
    "                continue\n",
    "            \n",
    "            reserved_registers.append(register)\n",
    "            reservable_registers[register] = False\n",
    "            num_free_registers = num_free_registers - 1\n",
    "            break\n",
    "\n",
    "    return reserved_registers\n",
    "\n",
    "def free_registers(registers):\n",
    "    global reservable_registers, num_free_registers\n",
    "    for register in registers:\n",
    "        reservable_registers[register] = True\n",
    "        num_free_registers = num_free_registers + 1\n",
    "\n",
    "def rename_register(old, new):\n",
    "    global registers_translation, reservable_registers\n",
    "\n",
    "    tmp = registers_translation[old]\n",
    "    del registers_translation[old]\n",
    "    registers_translation.update({new:tmp})\n",
    "\n",
    "    tmp = reservable_registers[old]\n",
    "    del reservable_registers[old]\n",
    "    reservable_registers.update({new:tmp})"
   ]
  },
  {
   "cell_type": "markdown",
   "metadata": {},
   "source": [
    "# Defining Gates"
   ]
  },
  {
   "cell_type": "code",
   "execution_count": 12,
   "metadata": {},
   "outputs": [],
   "source": [
    "def OR(inputs):\n",
    "    '''\n",
    "        creates imply logic for implementing a OR gate\n",
    "\n",
    "        expects:\n",
    "            inputs: labels of both input registers\n",
    "\n",
    "        returns:\n",
    "            result: label of register in which result is saved\n",
    "            imply_logic_strings: resulting imply logic in format usable by the ATOMIC tool\n",
    "    '''\n",
    "    global OR_count\n",
    "    OR_count = OR_count + 1\n",
    "    inp1, inp2 = inputs\n",
    "    imply_logic_strings = []\n",
    "    work1, work2 = reserve_registers(2)\n",
    "    imply_logic_strings.append(f\"F{registers_translation[work1]},{registers_translation[work2]}    # OR{OR_count}\")\n",
    "    imply_logic_strings.append(f\"I{registers_translation[inp1]},{registers_translation[work1]}\")\n",
    "    imply_logic_strings.append(f\"I{registers_translation[work1]},{registers_translation[work2]}\")\n",
    "    imply_logic_strings.append(f\"F{registers_translation[work1]}\")\n",
    "    imply_logic_strings.append(f\"I{registers_translation[inp2]},{registers_translation[work1]}\")\n",
    "    imply_logic_strings.append(f\"I{registers_translation[work1]},{registers_translation[work2]}    # ENDE OR{OR_count}\")\n",
    "    result = work2\n",
    "    to_be_freed = [work1]\n",
    "\n",
    "    return result, imply_logic_strings, to_be_freed\n",
    "\n",
    "\n",
    "def AND(inputs):\n",
    "    '''\n",
    "        creates imply logic for implementing a AND gate\n",
    "\n",
    "        expects:\n",
    "            inputs: labels of both input registers\n",
    "\n",
    "        returns:\n",
    "            result: label of register in which result is saved\n",
    "            imply_logic_strings: resulting imply logic in format usable by the ATOMIC tool\n",
    "    '''\n",
    "    global AND_count\n",
    "    AND_count = AND_count + 1\n",
    "    inp1, inp2 = inputs\n",
    "    imply_logic_strings = []\n",
    "    work1, work2 = reserve_registers(2)\n",
    "    imply_logic_strings.append(f\"F{registers_translation[work1]},{registers_translation[work2]}    # AND{AND_count}\")\n",
    "    imply_logic_strings.append(f\"I{registers_translation[inp1]},{registers_translation[work1]}\")\n",
    "    imply_logic_strings.append(f\"I{registers_translation[inp2]},{registers_translation[work1]}\")\n",
    "    imply_logic_strings.append(f\"I{registers_translation[work1]},{registers_translation[work2]}    # ENDE AND{AND_count}\")\n",
    "    result = work2\n",
    "    to_be_freed = [work1]\n",
    "\n",
    "    return result, imply_logic_strings, to_be_freed\n",
    "\n",
    "def XOR(inputs):\n",
    "    global XOR_count\n",
    "    XOR_count = XOR_count + 1\n",
    "    inp1, inp2 = inputs\n",
    "    imply_logic_strings = []\n",
    "    work1, work2, work3 = reserve_registers(3)\n",
    "\n",
    "    imply_logic_strings.append(f\"F{registers_translation[work1]},{registers_translation[work2]}    # XOR{XOR_count}\")\n",
    "    imply_logic_strings.append(f\"F{registers_translation[work1]},{registers_translation[work2]}\")\n",
    "    imply_logic_strings.append(f\"I{registers_translation[inp1]},{registers_translation[work1]}\")\n",
    "    imply_logic_strings.append(f\"I{registers_translation[inp2]},{registers_translation[work1]}\")\n",
    "    imply_logic_strings.append(f\"I{registers_translation[work1]},{registers_translation[work2]}\")\n",
    "    imply_logic_strings.append(f\"F{registers_translation[work1]},{registers_translation[work3]}\")\n",
    "    imply_logic_strings.append(f\"I{registers_translation[inp1]},{registers_translation[work1]}\")\n",
    "    imply_logic_strings.append(f\"I{registers_translation[work1]},{registers_translation[work3]}\")\n",
    "    imply_logic_strings.append(f\"F{registers_translation[work1]}\")\n",
    "    imply_logic_strings.append(f\"I{registers_translation[inp2]},{registers_translation[work1]}\")\n",
    "    imply_logic_strings.append(f\"I{registers_translation[work1]},{registers_translation[work3]}\")\n",
    "    imply_logic_strings.append(f\"I{registers_translation[work3]},{registers_translation[work2]}\")\n",
    "    imply_logic_strings.append(f\"F{registers_translation[work1]}\")\n",
    "    imply_logic_strings.append(f\"I{registers_translation[work2]},{registers_translation[work1]}     # ENDE XOR{XOR_count}\")\n",
    "\n",
    "    result = work1\n",
    "    to_be_freed = [work2, work3]\n",
    "    return result, imply_logic_strings, to_be_freed\n",
    "\n",
    "def NOT(input):\n",
    "    '''\n",
    "        creates imply logic for implementing a NOT gate\n",
    "\n",
    "        expects:\n",
    "            inputs: label of input register\n",
    "\n",
    "        returns:\n",
    "            result: label of register in which result is saved\n",
    "            imply_logic_strings: resulting imply logic in format usable by the ATOMIC tool\n",
    "    '''\n",
    "    global NOT_count\n",
    "    NOT_count = NOT_count + 1\n",
    "    inp = input[0]\n",
    "    imply_logic_strings = []\n",
    "    work = reserve_registers(1)[0]\n",
    "    # print(f\"work: {work}\")\n",
    "    imply_logic_strings.append(f\"F{registers_translation[work]}    # NOT{NOT_count}\")\n",
    "    imply_logic_strings.append(f\"I{registers_translation[inp]},{registers_translation[work]}    # ENDE NOT{NOT_count}\")\n",
    "    result = work\n",
    "    to_be_freed = []\n",
    "    return result, imply_logic_strings, to_be_freed\n",
    "\n",
    "def OUT(input):\n",
    "    return input[0], [], []\n",
    "    \n",
    "\n",
    "gate_mapping = {\"OR\": OR, \"AND\": AND, \"NOT\": NOT, \"XOR\": XOR, \"OUT\": OUT}"
   ]
  },
  {
   "cell_type": "markdown",
   "metadata": {},
   "source": [
    "# Circuit flow functions"
   ]
  },
  {
   "cell_type": "code",
   "execution_count": 13,
   "metadata": {},
   "outputs": [],
   "source": [
    "def pad_list(lst, length):\n",
    "    while len(lst) < length:\n",
    "        lst.append(\"nop\")\n",
    "    return lst"
   ]
  },
  {
   "cell_type": "code",
   "execution_count": 14,
   "metadata": {},
   "outputs": [],
   "source": [
    "def combine_logic_chunks(chunk):\n",
    "    '''\n",
    "        combines operations that can be run in parallel\n",
    "    '''\n",
    "\n",
    "    # print(chunk[0])\n",
    "    # print(chunk[1])\n",
    "\n",
    "    while len(chunk) < parallelism:\n",
    "        chunk.append([])\n",
    "\n",
    "    # return None\n",
    "    # if only one gate is present - only unpack and return\n",
    "    if len(chunk) == 1:\n",
    "        # print(\"only one gate present\")\n",
    "        return chunk[0]\n",
    "\n",
    "    output = []\n",
    "\n",
    "    # pad gatelogics to length of largest (first) gate\n",
    "    length = len(chunk[0])\n",
    "    for i in range(len(chunk[1:])):\n",
    "        chunk[i+1] = pad_list(chunk[i+1], length)\n",
    "\n",
    "    # print(chunk[0])\n",
    "    # print(chunk[1])\n",
    "\n",
    "    for parallel_logics in zip(*chunk):\n",
    "        output.append(\" | \".join(parallel_logics))\n",
    "\n",
    "    # print(\"output\")\n",
    "    # print(output)\n",
    "\n",
    "    return output\n",
    "\n",
    "\n",
    "\n",
    "def process_stage(stage):\n",
    "    current_stage = circuit[\"stages\"][stage]\n",
    "    # print(f\"Stage {stage}: {current_stage}\")\n",
    "    generated_imply_logics = []\n",
    "    maxSteps = 0\n",
    "\n",
    "    to_be_freed = []\n",
    "\n",
    "    # process gates in current stage\n",
    "    for gate in current_stage[\"gates\"]:\n",
    "        func = gate_mapping[gate[\"type\"]]\n",
    "        outputName = gate['name']\n",
    "        inputs = gate[\"inputs\"]\n",
    "\n",
    "        out, imply_logic, free_regs = func(inputs)\n",
    "        generated_imply_logics.append(imply_logic)\n",
    "        to_be_freed.extend(free_regs)\n",
    "        if len(imply_logic) > maxSteps:\n",
    "            maxSteps = len(imply_logic)\n",
    "\n",
    "        rename_register(out, outputName)\n",
    "    \n",
    "    free_registers(to_be_freed)\n",
    "\n",
    "    generated_imply_logics = sorted(generated_imply_logics, key=lambda x: len(x), reverse=True)\n",
    "    \n",
    "    # print(\"generated_imply_logics\")\n",
    "    # print(generated_imply_logics)\n",
    "\n",
    "    # combine into chunks that will be processed in parallel\n",
    "    generated_imply_logics = [generated_imply_logics[i: i+parallelism] for i in range(0, len(generated_imply_logics), parallelism)]\n",
    "    # print(generated_imply_logics)\n",
    "    # combine chunks into parallelized imply logic statements\n",
    "    imply_logic = []\n",
    "    for chunk in generated_imply_logics:\n",
    "        # combine_logic_chunks(chunk)\n",
    "        imply_logic.extend(combine_logic_chunks(chunk))\n",
    "\n",
    "    # print(f\"cleaning up registers {current_stage['free_registers_after_stage']}\")\n",
    "    free_registers(current_stage['free_registers_after_stage'])\n",
    "    \n",
    "    return imply_logic"
   ]
  },
  {
   "cell_type": "code",
   "execution_count": 26,
   "metadata": {},
   "outputs": [
    {
     "name": "stdout",
     "output_type": "stream",
     "text": [
      "#Memristors: 62\n",
      "Outputs: \n"
     ]
    }
   ],
   "source": [
    "circuit = json.load(open('config.json'))\n",
    "parallelism = 1 # number of gates that can maximally be executed in parallel\n",
    "\n",
    "registers_translation = {label:index for index, label in enumerate(circuit[\"input_registers\"])}\n",
    "reservable_registers = {label:False for label in circuit[\"input_registers\"]} # label of register : is register free to use\n",
    "\n",
    "num_registers = len(registers_translation)\n",
    "num_free_registers = 0\n",
    "\n",
    "imply_logic_strings_parallel = []\n",
    "\n",
    "logic_result = []\n",
    "AND_count = -1\n",
    "OR_count = -1\n",
    "NOT_count = -1\n",
    "XOR_count = -1\n",
    "\n",
    "# logic_result.extend(process_stage(0))\n",
    "\n",
    "for stage in range(len(circuit[\"stages\"])):\n",
    "    logic_result.extend(process_stage(stage))\n",
    "    # print(f\"Free Memristors {num_free_registers}/{len(reservable_registers)}\")\n",
    "    # print(len(reservable_registers))\n",
    "    # print(num_free_registers)   \n",
    "\n",
    "with open('atomic_config.txt', 'w') as f:\n",
    "    f.write('\\n'.join(logic_result))\n",
    "\n",
    "print(f\"#Memristors: {len(reservable_registers)}\")\n",
    "print(f\"Outputs: \")\n",
    "for out in [rist for rist,free in reservable_registers.items() if not free and \"OUT\" in rist]:\n",
    "    print(f\"\\tLabel: {out} | Index: {registers_translation[out]}\")\n",
    "# print('\\n'.join(logic_result))\n",
    "# print('\\n'.join(process_stage(0)))\n"
   ]
  },
  {
   "cell_type": "code",
   "execution_count": 27,
   "metadata": {},
   "outputs": [],
   "source": [
    "# output_labels = ['OR10', 'XOR22', 'XOR20', 'XOR16', 'XOR10', 'XOR4', 'XOR0', 'AND0']\n",
    "# output_labels = ['XOR128', 'XOR127', 'XOR126', 'XOR125', 'XOR123', 'XOR119', 'XOR115', 'XOR111', 'XOR107', 'XOR103', 'XOR99', 'XOR95', 'XOR10', 'XOR4', 'XOR0', 'AND0']\n",
    "# output_labels = ['OR9', 'AND36', 'XOR20', 'XOR16', 'XOR10', 'XOR4', 'XOR0', 'AND0']\n",
    "# output_labels = ['OR165', 'OR158', 'OR151', 'OR144', 'OR137', 'OR130', 'OR123', 'OR116', 'OR109', 'OR102', 'OR95', 'OR88', 'OR81', 'OR74', 'OR67', 'XOR129']\n",
    "# output_labels = ['OR109', 'OR102', 'OR95', 'OR88', 'OR81', 'OR74', 'OR67', 'XOR137', 'XOR136', 'XOR135', 'XOR134', 'XOR133', 'XOR132', 'XOR131', 'XOR130', 'XOR129']\n",
    "# output_labels = ['OR176', 'OR169', 'OR162', 'OR155', 'OR148', 'OR141', 'OR134', 'OR127', 'OR120', 'OR113', 'OR106', 'OR99', 'OR92', 'OR85', 'OR78', 'XOR71']\n",
    "output_labels = ['OR120', 'OR113', 'OR106', 'OR99', 'OR92', 'OR85', 'OR78', 'XOR79', 'XOR78', 'XOR77', 'XOR76', 'XOR75', 'XOR74', 'XOR73', 'XOR72', 'XOR71']"
   ]
  },
  {
   "cell_type": "code",
   "execution_count": 55,
   "metadata": {},
   "outputs": [
    {
     "name": "stdout",
     "output_type": "stream",
     "text": [
      "{'IN_a0': False, 'IN_a1': False, 'IN_a2': False, 'IN_a3': False, 'IN_b0': False, 'IN_b1': False, 'IN_b2': False, 'IN_b3': False, 'IN0': False, 'IN1': False, 'IN2': False, 'w0': True, 'AND0': False}\n"
     ]
    }
   ],
   "source": [
    "print(reservable_registers)"
   ]
  },
  {
   "cell_type": "code",
   "execution_count": 28,
   "metadata": {},
   "outputs": [
    {
     "name": "stdout",
     "output_type": "stream",
     "text": [
      "Free memristors:\n",
      "['XOR71: 11', 'XOR72: 31', 'XOR73: 30', 'XOR74: 29', 'XOR75: 28', 'XOR76: 27', 'XOR77: 26', 'XOR78: 25', 'XOR79: 24', 'OR78: 4', 'OR85: 13', 'OR92: 50', 'OR99: 39', 'OR106: 23', 'OR113: 36', 'OR120: 0']\n"
     ]
    }
   ],
   "source": [
    "print(\"Free memristors:\")\n",
    "print([f\"{rist}: {registers_translation[rist]}\" for rist,free in reservable_registers.items() if rist in output_labels])"
   ]
  },
  {
   "cell_type": "code",
   "execution_count": 28,
   "metadata": {},
   "outputs": [
    {
     "name": "stdout",
     "output_type": "stream",
     "text": [
      "{'IN63': True, 'XOR123': True, 'XOR125': True, 'XOR127': True, 'XOR128': True, 'NOT40': True, 'OR84': True, 'NOT37': True, 'NOT41': True, 'NOT43': True, 'OR85': True, 'NOT35': True, 'OR87': True, 'OR90': True, 'OR86': True, 'NOT38': True, 'NOT39': True, 'NOT42': True, 'NOT36': True, 'NOT44': True, 'XOR134': True, 'OR91': True, 'NOT47': True, 'OR96': True, 'NOT50': True, 'OR92': True, 'NOT45': True, 'OR94': True, 'NOT51': True, 'OR93': True, 'NOT48': True, 'NOT49': True, 'OR97': True, 'NOT46': True, 'NOT52': True, 'NOT53': True, 'OR98': True, 'NOT54': True, 'XOR135': True, 'NOT57': True, 'OR99': True, 'NOT55': True, 'OR101': True, 'OR103': True, 'OR100': True, 'NOT58': True, 'NOT59': True, 'NOT60': True, 'NOT56': True, 'NOT61': True, 'NOT63': True, 'OR104': True, 'NOT64': True, 'XOR136': True, 'NOT67': True, 'NOT62': True, 'OR108': True, 'OR105': True, 'NOT69': True, 'OR106': True, 'NOT65': True, 'OR107': True, 'NOT68': True, 'NOT66': True, 'OUT0': False, 'OUT1': False, 'OUT2': False, 'OUT3': False, 'OUT4': False, 'OUT5': False, 'OUT6': False, 'OUT7': False, 'OUT8': False, 'OUT9': False, 'OUT10': False, 'OUT11': False, 'OUT12': False, 'OUT13': False, 'OUT14': False, 'OUT15': False}\n",
      "64\n"
     ]
    }
   ],
   "source": [
    "print(reservable_registers)\n",
    "print(num_free_registers)"
   ]
  },
  {
   "cell_type": "code",
   "execution_count": 5,
   "metadata": {},
   "outputs": [
    {
     "name": "stdout",
     "output_type": "stream",
     "text": [
      "cleaning up registers ['i1', 'i2', 'i3', 'i4']\n",
      "['F4,5 | F6,7', 'I0,4 | I2,6', 'I4,5 | I6,7', 'F4 | F6', 'I1,4 | I3,6', 'I4,5 | I6,7', 'F8,9 | F10,11', 'I0,8 | I2,10', 'I8,9 | I10,11', 'F8 | F10', 'I1,8 | I3,10', 'I8,9 | I10,11']\n"
     ]
    }
   ],
   "source": [
    "print(process_stage(0))"
   ]
  },
  {
   "cell_type": "code",
   "execution_count": 7,
   "metadata": {},
   "outputs": [
    {
     "name": "stdout",
     "output_type": "stream",
     "text": [
      "only one gate present\n",
      "cleaning up registers ['or1', 'or2']\n",
      "['F0,1', 'I5,0', 'I7,0', 'I0,1']\n"
     ]
    }
   ],
   "source": [
    "print(process_stage(1))"
   ]
  },
  {
   "cell_type": "code",
   "execution_count": 8,
   "metadata": {},
   "outputs": [
    {
     "data": {
      "text/plain": [
       "{'i1': True,\n",
       " 'i3': True,\n",
       " 'i4': True,\n",
       " 'w0': True,\n",
       " 'or1': True,\n",
       " 'w2': True,\n",
       " 'or2': True,\n",
       " 'w4': True,\n",
       " 'or3': False,\n",
       " 'w6': True,\n",
       " 'or4': False,\n",
       " 'and1': False}"
      ]
     },
     "execution_count": 8,
     "metadata": {},
     "output_type": "execute_result"
    }
   ],
   "source": [
    "reservable_registers"
   ]
  },
  {
   "cell_type": "code",
   "execution_count": 5,
   "metadata": {},
   "outputs": [
    {
     "name": "stdout",
     "output_type": "stream",
     "text": [
      "['abcde', 'abc', 'ab']\n",
      "[['abcde', 'abc'], ['ab']]\n"
     ]
    }
   ],
   "source": [
    "chunkSize = 2\n",
    "sortedList = sorted([\"abc\", \"abcde\", \"ab\"], key=lambda x: len(x), reverse=True)\n",
    "print(sortedList)\n",
    "chunked = [sortedList[i:i+chunkSize] for i in range(0, len(sortedList), chunkSize)]\n",
    "print(chunked)"
   ]
  },
  {
   "cell_type": "code",
   "execution_count": 16,
   "metadata": {},
   "outputs": [
    {
     "name": "stdout",
     "output_type": "stream",
     "text": [
      "{'type': 'OR', 'name': 'or1', 'inputs': ['i1', 'i2']}\n",
      "{'type': 'OR', 'name': 'or2', 'inputs': ['i3', 'i4']}\n",
      "cleaning up registers ['i1', 'i2', 'i3', 'i4']\n"
     ]
    }
   ],
   "source": [
    "process_stage(0)"
   ]
  },
  {
   "cell_type": "code",
   "execution_count": 3,
   "metadata": {},
   "outputs": [],
   "source": [
    "my_reg = reserve_registers(2)"
   ]
  },
  {
   "cell_type": "code",
   "execution_count": 4,
   "metadata": {},
   "outputs": [
    {
     "name": "stdout",
     "output_type": "stream",
     "text": [
      "{'i1': False, 'i2': False, 'i3': False, 'i4': False, 'w0': False, 'w1': False}\n",
      "0\n",
      "{'i1': 0, 'i2': 1, 'i3': 2, 'i4': 3, 'w0': 4, 'w1': 5}\n",
      "6\n",
      "['w0', 'w1']\n"
     ]
    }
   ],
   "source": [
    "print(reservable_registers)\n",
    "print(num_free_registers)\n",
    "print(registers_translation)\n",
    "print(num_registers)\n",
    "print(my_reg)\n"
   ]
  },
  {
   "cell_type": "markdown",
   "metadata": {},
   "source": [
    "### Test OR Logic"
   ]
  },
  {
   "cell_type": "code",
   "execution_count": 9,
   "metadata": {},
   "outputs": [
    {
     "name": "stdout",
     "output_type": "stream",
     "text": [
      "{'i1': False, 'i2': False, 'i3': False, 'i4': False, 'w0': True, 'w1': False, 'w2': False}\n",
      "1\n",
      "{'i1': 0, 'i2': 1, 'i3': 2, 'i4': 3, 'w0': 4, 'w1': 5, 'w2': 6}\n",
      "7\n",
      "{'i1': False, 'i2': False, 'i3': False, 'i4': False, 'w0': False, 'w1': False, 'w2': False}\n",
      "i1\n",
      "['F4', 'I1,4', 'I4,0']\n"
     ]
    }
   ],
   "source": [
    "print(reservable_registers)\n",
    "print(num_free_registers)\n",
    "print(registers_translation)\n",
    "print(num_registers)\n",
    "\n",
    "result, logic = OR(\"i1\", \"i2\")\n",
    "\n",
    "print(result)\n",
    "print(logic)"
   ]
  },
  {
   "cell_type": "markdown",
   "metadata": {},
   "source": [
    "### Test AND Logic"
   ]
  },
  {
   "cell_type": "code",
   "execution_count": 5,
   "metadata": {},
   "outputs": [
    {
     "name": "stdout",
     "output_type": "stream",
     "text": [
      "{'i1': False, 'i2': False, 'i3': False, 'i4': False}\n",
      "0\n",
      "{'i1': 0, 'i2': 1, 'i3': 2, 'i4': 3}\n",
      "4\n",
      "w1\n",
      "['F4,5', 'I0,4', 'I1,4', 'I4,5']\n"
     ]
    }
   ],
   "source": [
    "print(reservable_registers)\n",
    "print(num_free_registers)\n",
    "print(registers_translation)\n",
    "print(num_registers)\n",
    "\n",
    "result, logic = AND(\"i1\", \"i2\")\n",
    "\n",
    "print(result)\n",
    "print(logic)"
   ]
  },
  {
   "cell_type": "code",
   "execution_count": 7,
   "metadata": {},
   "outputs": [
    {
     "name": "stdout",
     "output_type": "stream",
     "text": [
      "{'i1': False, 'i2': False, 'i3': False, 'i4': False, 'w0': True, 'w1': False}\n",
      "1\n",
      "{'i1': 0, 'i2': 1, 'i3': 2, 'i4': 3, 'w0': 4, 'w1': 5}\n",
      "6\n"
     ]
    }
   ],
   "source": [
    "print(reservable_registers)\n",
    "print(num_free_registers)\n",
    "print(registers_translation)\n",
    "print(num_registers)"
   ]
  },
  {
   "cell_type": "code",
   "execution_count": null,
   "metadata": {},
   "outputs": [],
   "source": []
  }
 ],
 "metadata": {
  "kernelspec": {
   "display_name": "pisse",
   "language": "python",
   "name": "python3"
  },
  "language_info": {
   "codemirror_mode": {
    "name": "ipython",
    "version": 3
   },
   "file_extension": ".py",
   "mimetype": "text/x-python",
   "name": "python",
   "nbconvert_exporter": "python",
   "pygments_lexer": "ipython3",
   "version": "3.10.11"
  }
 },
 "nbformat": 4,
 "nbformat_minor": 2
}
